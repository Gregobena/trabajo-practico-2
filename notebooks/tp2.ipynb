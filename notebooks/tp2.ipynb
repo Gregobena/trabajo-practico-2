{
 "cells": [
  {
   "cell_type": "markdown",
   "id": "7eb9976b-bb78-4c41-b24d-f70a0e744b26",
   "metadata": {},
   "source": [
    "Trabajo practico N2 "
   ]
  },
  {
   "cell_type": "code",
   "execution_count": null,
   "id": "5a25d310",
   "metadata": {},
   "outputs": [],
   "source": [
    "import sys\n",
    "import os\n",
    "sys.path.append(os.path.abspath('..'))  "
   ]
  },
  {
   "cell_type": "markdown",
   "id": "32784db8-abb4-4e28-8d69-ac46d9162613",
   "metadata": {},
   "source": [
    "Actividad 1"
   ]
  },
  {
   "cell_type": "code",
   "execution_count": 5,
   "id": "667f0bee-355c-4fec-860c-1ac0439d94d4",
   "metadata": {},
   "outputs": [
    {
     "name": "stdout",
     "output_type": "stream",
     "text": [
      "Beautiful is better than ugly.\n",
      "\n",
      "Simple is better than complex.\n",
      "\n",
      "Complex is better than complicated.\n",
      "\n",
      "Readability counts.\n",
      "\n",
      "Now is better than never.\n",
      "\n",
      "Namespaces are one honking great idea -- let's do more of those!\n"
     ]
    }
   ],
   "source": [
    "import this\n",
    "import codecs\n",
    "zen_descifrado = codecs.decode(this.s, 'rot_13')\n",
    "zen_acortado = zen_descifrado[34:] \n",
    "lineas_zen = zen_acortado.splitlines('/n') \n",
    "vocales = (\"A\",\"E\",\"I\",\"O\", \"U\", \"a\", \"e\", \"i\", \"o\", \"u\")\n",
    "for line in lineas_zen: \n",
    "    for voc in vocales:\n",
    "        if voc == line[1]: \n",
    "            print(line)"
   ]
  },
  {
   "cell_type": "markdown",
   "id": "6038c7a3-1db1-44db-aa94-fc54e64b3f45",
   "metadata": {},
   "source": [
    "(uso de codecs para decifrar el zen de python) "
   ]
  },
  {
   "cell_type": "markdown",
   "id": "c8f41451-064e-451c-af34-ab50b8fd6b6c",
   "metadata": {},
   "source": [
    "Actividad 2"
   ]
  },
  {
   "cell_type": "code",
   "execution_count": 41,
   "id": "a837ccdb-73ba-437c-bf8b-b00b3923afa1",
   "metadata": {},
   "outputs": [
    {
     "name": "stdout",
     "output_type": "stream",
     "text": [
      "Jugando al nuevo FPS del momento con amigos\n"
     ]
    }
   ],
   "source": [
    "titles = [\n",
    "    \"Speedrun de Super Mario en tiempo récord\",\n",
    "    \"Charla sobre desarrollo de videojuegos\",\n",
    "    \"Jugando al nuevo FPS del momento con amigos\",\n",
    "    \"Música en vivo: improvisaciones al piano\"\n",
    "    ]\n",
    "max = 0\n",
    "for line in titles:\n",
    "    if len(line) > max: \n",
    "        max = len(line)\n",
    "        item = line \n",
    "print(item)"
   ]
  },
  {
   "cell_type": "markdown",
   "id": "05409b68-884f-4d54-9c4c-cbd5b78d6863",
   "metadata": {},
   "source": [
    "Actividad 3 "
   ]
  },
  {
   "cell_type": "code",
   "execution_count": 51,
   "id": "9fd58c7a-6687-4cb1-aa31-58e65c5b04c7",
   "metadata": {},
   "outputs": [
    {
     "name": "stdout",
     "output_type": "stream",
     "text": [
      "['Respeta a los demás. No se permiten insultos ni lenguaje', 'ofensivo.', 'Evita el spam. No publiques enlaces sospechosos o repetitivos.', 'No compartas información personal.', 'Usa los canales adecuados para cada tema.', 'Sigue las instrucciones de los moderadores.']\n"
     ]
    },
    {
     "name": "stdout",
     "output_type": "stream",
     "text": [
      "ingrese la palabra clave moderadores\n"
     ]
    },
    {
     "name": "stdout",
     "output_type": "stream",
     "text": [
      "Sigue las instrucciones de los moderadores.\n"
     ]
    }
   ],
   "source": [
    "rules = \"\"\"Respeta a los demás. No se permiten insultos ni lenguaje\n",
    "ofensivo.\n",
    "Evita el spam. No publiques enlaces sospechosos o repetitivos.\n",
    "No compartas información personal.\n",
    "Usa los canales adecuados para cada tema.\n",
    "Sigue las instrucciones de los moderadores.\"\"\"\n",
    "rules_list = rules.splitlines() \n",
    "print(rules_list) \n",
    "clave = str(input(\"ingrese la palabra clave\"))\n",
    "for line in rules_list: \n",
    "    if clave in line:\n",
    "        print(line) \n"
   ]
  },
  {
   "cell_type": "markdown",
   "id": "4cc0ae37-227a-41b7-898b-565ff4a06caf",
   "metadata": {},
   "source": [
    "Actividad 4 \n",
    "caracteristicas del nombre de usuario: \n",
    "    Al menos 5 caracteres.\n",
    "    Contiene al menos un número.\n",
    "    Contiene al menos una letra mayúscula.\n",
    "    Solo puede contener letras y números."
   ]
  },
  {
   "cell_type": "code",
   "execution_count": 42,
   "id": "211c3c4c-367d-43d7-b679-1dc3720d7e74",
   "metadata": {},
   "outputs": [
    {
     "name": "stdout",
     "output_type": "stream",
     "text": [
      "nombre de usuario no valido\n"
     ]
    }
   ],
   "source": [
    "import string\n",
    "from src.funciones import mayuscula\n",
    "from src.funciones import es_ascii\n",
    "from src.funciones import mayuscula\n",
    "\n",
    "usuario = input(\"ingrese el nombre de usuario\")\n",
    "numeros = string.digits\n",
    "\n",
    "if (len(usuario) > 4) and (un_numero(usuario)) and (mayuscula(usuario)) and (es_ascii(usuario)):\n",
    "    print(\"usuario ingresado correctamente\")\n",
    "else: \n",
    "    print(\"nombre de usuario no valido\")\n",
    "    "
   ]
  },
  {
   "cell_type": "markdown",
   "id": "2e526648-8fe9-4c4c-a00e-71a9b8637848",
   "metadata": {},
   "source": [
    "Actividad 5 "
   ]
  },
  {
   "cell_type": "code",
   "execution_count": 23,
   "id": "9d69b47a-15f0-437a-8e94-5343d977cba6",
   "metadata": {},
   "outputs": [
    {
     "name": "stdout",
     "output_type": "stream",
     "text": [
      "ingrese su tiempo de reaccion en ms 500\n"
     ]
    },
    {
     "name": "stdout",
     "output_type": "stream",
     "text": [
      "categoria: normal\n"
     ]
    }
   ],
   "source": [
    "ms = int(input(\"ingrese su tiempo de reaccion en ms\"))\n",
    "if ms < 200: \n",
    "    print(\"categoria: lento\")\n",
    "elif ms <= 500: \n",
    "    print(\"categoria: normal\")\n",
    "else: \n",
    "    print(\"categoria: rapido\") \n"
   ]
  },
  {
   "cell_type": "markdown",
   "id": "6a8dda29-e927-420c-8a4a-e60caeb331e9",
   "metadata": {},
   "source": [
    "Actividad 6 "
   ]
  },
  {
   "cell_type": "code",
   "execution_count": 35,
   "id": "4cacb8f2-f28e-4fae-8079-7cf2cb5f98a4",
   "metadata": {},
   "outputs": [
    {
     "name": "stdout",
     "output_type": "stream",
     "text": [
      "música  tuvo 4 ocurrencias\n",
      "charla  tuvo 2 ocurrencias\n",
      "entretenimiento  tuvo 1 ocurrencias\n"
     ]
    }
   ],
   "source": [
    "descriptions = [\n",
    "\"Streaming de música en vivo con covers y composiciones\",\n",
    "\"Charla interactiva con la audiencia sobre series y películas\",\n",
    "\"Jugamos a juegos retro y charlamos sobre su historia\",\n",
    "\"Exploramos la mejor música de los 80s y 90s\",\n",
    "\"Programa de entretenimiento con noticias y curiosidades del mundo gamer\",\n",
    "\"Sesión de charla con invitados especiales del mundo del streaming\",\n",
    "\"Música en directo con improvisaciones y peticiones del chat\",\n",
    "\"Un espacio para charlar relajada sobre tecnología y cultura digital\",\n",
    "\"Exploramos el impacto de la música en los videojuegos clásicos\"\n",
    "]\n",
    "x = {\n",
    "    \"música \" : 0 ,\n",
    "    \"charla \" : 0 ,\n",
    "    \"entretenimiento \" : 0,\n",
    "    }\n",
    "     \n",
    "for elem in descriptions: \n",
    "    for palabra in x: \n",
    "        x[palabra] += elem.lower().count(palabra )\n",
    "for palabra in x: \n",
    "    print(f'{palabra} tuvo {x[palabra]} ocurrencias') \n",
    "          \n",
    "    "
   ]
  },
  {
   "cell_type": "markdown",
   "id": "9af1e572-30a5-435a-a52d-4fad6812df03",
   "metadata": {},
   "source": [
    "actividad 7"
   ]
  },
  {
   "cell_type": "code",
   "execution_count": 38,
   "id": "22093600-3e5b-4b0d-95a2-47eade457ac7",
   "metadata": {},
   "outputs": [
    {
     "name": "stdout",
     "output_type": "stream",
     "text": [
      "GREGO-2025-04-04-L36F66NS7TJI4\n"
     ]
    }
   ],
   "source": [
    "import datetime as dt\n",
    "import string \n",
    "import random as rd\n",
    "from src.funciones import random_code\n",
    "\n",
    "nombre = input(\"ingrese el nombre de usuario\") \n",
    "fecha = dt.datetime.now().date()\n",
    "codigo = nombre.upper() + \"-\" + str(fecha) + \"-\"\n",
    "print(random_code(codigo))\n",
    "    "
   ]
  },
  {
   "cell_type": "markdown",
   "id": "f5f6c898-56f3-4901-8fd6-7825b5b66171",
   "metadata": {},
   "source": [
    " Actividad 8"
   ]
  },
  {
   "cell_type": "code",
   "execution_count": 39,
   "id": "2818f9e3-d16f-4fb4-be1c-9004e872bfc9",
   "metadata": {},
   "outputs": [
    {
     "name": "stdout",
     "output_type": "stream",
     "text": [
      "son anagramas\n"
     ]
    }
   ],
   "source": [
    "from src.funciones import son_anagramas\n",
    "\n",
    "cadena1 = input(\"ingrese la primera palabra\") \n",
    "cadena2 = input(\"ingrese la primera palabra\") \n",
    "if son_anagramas(cadena1,cadena2): \n",
    "    print(\"son anagramas\") \n",
    "else: \n",
    "    print(\"no son anagramas\") \n",
    "    "
   ]
  },
  {
   "cell_type": "markdown",
   "id": "8106cc74-4c57-4b02-b0db-2a0d772244d3",
   "metadata": {},
   "source": [
    "actividad 9 "
   ]
  },
  {
   "cell_type": "code",
   "execution_count": 40,
   "id": "ade616d3-fbdc-4766-afc5-dabdac8a5e2e",
   "metadata": {},
   "outputs": [
    {
     "name": "stdout",
     "output_type": "stream",
     "text": [
      "['Ana López', 'Pedro Gómez', 'Maria Martínez', 'Luis Rodríguez', 'Juan Pérez', 'Marta Suárez', 'Claudia Torres', 'Ricardo Fernández', 'Laura Ramos', 'Carlos Mendes', 'Alejandro González', 'Patricia Vega', 'Andrés Ocampo', 'Monica Herrera', 'Gabriela Ruíz', 'Sandra Morales', 'Miguel Ángel', 'Damián Castillo']\n"
     ]
    }
   ],
   "source": [
    "from src.funciones import limpiar_vacios\n",
    "clients = [\n",
    "\" Ana López \", \"Pedro Gómez\", \"maria martínez\", \"Pedro Gómez \", \"\",\n",
    "\" Luis Rodríguez \", None, \"ana lópez\", \"JUAN PÉREZ\", \"MARTA SUÁREZ\",\n",
    "\"luis rodríguez\", \"maria martínez \", \" claudia torres\", \"CLAUDIA TORRES\",\n",
    "\" \", \"pedro gómez\", \"Juan Pérez\", None, \"Ricardo Fernández\", \"LAURA RAMOS\",\n",
    "\"carlos mendes\", \"RICARDO FERNÁNDEZ \", \" Laura ramos\", \"CARLOS MENDES\",\n",
    "\"alejandro gonzález\", \" ALEJANDRO GONZÁLEZ \", \"Patricia Vega\",\n",
    "\"patricia VEGA\", \"Andrés Ocampo\", \" andrés ocampo\", \"Monica Herrera\",\n",
    "\"MONICA HERRERA \", \"gabriela ruíz\", \"Gabriela Ruíz\", \"sandra morales\",\n",
    "\"SANDRA MORALES\", \"miguel ángel\", \"Miguel Ángel \", \" Damián Castillo\",\n",
    "\"Damián Castillo \", None, \"\", \" \"\n",
    "]\n",
    " \n",
    "print(limpiar_vacios(clients))"
   ]
  },
  {
   "cell_type": "markdown",
   "id": "180c6936-f028-4cdd-adf8-6a1e69ffde7a",
   "metadata": {},
   "source": [
    "actividad 10 "
   ]
  },
  {
   "cell_type": "code",
   "execution_count": 43,
   "id": "81b7fe61-9486-4429-8a6f-25caa55b3d55",
   "metadata": {
    "scrolled": true
   },
   "outputs": [
    {
     "name": "stdout",
     "output_type": "stream",
     "text": [
      "player       Kills       Assists       Deaths       Mvp       Points      \n",
      " Shadow         6           6            2           2            22\n",
      " Blaze         6           3            3           1            18\n",
      " Viper         5           6            3           1            18\n",
      " Frost         4           5            2           1            15\n",
      " Reaper         4           5            1           0            16\n"
     ]
    }
   ],
   "source": [
    "from src.funciones import insertar_ronda\n",
    "\n",
    "rounds = [{ 'Shadow': {'kills': 2, 'assists': 1, 'deaths': True},\n",
    "'Blaze': {'kills': 1, 'assists': 0, 'deaths': False},\n",
    "'Viper': {'kills': 1, 'assists': 2, 'deaths': True},\n",
    "'Frost': {'kills': 0, 'assists': 1, 'deaths': False},\n",
    "'Reaper': {'kills': 1, 'assists': 1, 'deaths': False}}\n",
    ",          \n",
    "{ 'Shadow': {'kills': 0, 'assists': 2, 'deaths': False},\n",
    "'Blaze': {'kills': 2, 'assists': 0, 'deaths': True},\n",
    "'Viper': {'kills': 1, 'assists': 1, 'deaths': False},\n",
    "'Frost': {'kills': 2, 'assists': 1, 'deaths': True},\n",
    "'Reaper': {'kills': 0, 'assists': 1, 'deaths': False}}\n",
    ",\n",
    "{'Shadow': {'kills': 1, 'assists': 0, 'deaths': False},\n",
    "'Blaze': {'kills': 2, 'assists': 2, 'deaths': True},\n",
    "'Viper': {'kills': 1, 'assists': 1, 'deaths': True},\n",
    "'Frost': {'kills': 0, 'assists': 1, 'deaths': False},\n",
    "'Reaper': {'kills': 1, 'assists': 1, 'deaths': False}\n",
    "}\n",
    ",          \n",
    "{ 'Shadow': {'kills': 2, 'assists': 1, 'deaths': False},\n",
    "'Blaze': {'kills': 1, 'assists': 0, 'deaths': True},\n",
    "'Viper': {'kills': 0, 'assists': 2, 'deaths': False},\n",
    "'Frost': {'kills': 1, 'assists': 1, 'deaths': True},\n",
    "'Reaper': {'kills': 1, 'assists': 1, 'deaths': False}\n",
    "}\n",
    ",\n",
    "{ 'Shadow': {'kills': 1, 'assists': 2, 'deaths': True},\n",
    "'Blaze': {'kills': 0, 'assists': 1, 'deaths': False},\n",
    "'Viper': {'kills': 2, 'assists': 0, 'deaths': True},\n",
    "'Frost': {'kills': 1, 'assists': 1, 'deaths': False},\n",
    "'Reaper': {'kills': 1, 'assists': 1, 'deaths': True}\n",
    "}]\n",
    "total = { 'Shadow': {'kills': 0, 'assists': 0, 'deaths': 0, \"mvp\" : 0, \"points\" : 0},\n",
    "'Blaze': {'kills': 0, 'assists': 0, 'deaths': 0, \"mvp\" : 0, \"points\" : 0},\n",
    "'Viper': {'kills': 0, 'assists': 0, 'deaths': 0, \"mvp\" : 0, \"points\" : 0},\n",
    "'Frost': {'kills': 0, 'assists': 0, 'deaths': 0, \"mvp\" : 0, \"points\" : 0},\n",
    "'Reaper': {'kills': 0, 'assists': 0, 'deaths': 0, \"mvp\" : 0, \"points\" : 0}\n",
    "}\n",
    "\n",
    "for round in rounds: \n",
    "    insertar_ronda(round,total)\n",
    "print(\"player\", \" \" * 5, \"Kills\", \" \"*5, \"Assists\", \" \"*5, \"Deaths\", \" \"*5, \"Mvp\", \" \"*5, \"Points\", \" \"*5) \n",
    "for player in total: \n",
    "        print(f' {player}         {total[player][\"kills\"]}           {total[player][\"assists\"]}            {total[player][\"deaths\"]}           {total[player][\"mvp\"]}            {total[player][\"points\"]}' )"
   ]
  },
  {
   "cell_type": "code",
   "execution_count": null,
   "id": "f5ddc299-5495-4931-9605-c9e306225c57",
   "metadata": {},
   "outputs": [],
   "source": []
  }
 ],
 "metadata": {
  "kernelspec": {
   "display_name": "Python 3",
   "language": "python",
   "name": "python3"
  },
  "language_info": {
   "codemirror_mode": {
    "name": "ipython",
    "version": 3
   },
   "file_extension": ".py",
   "mimetype": "text/x-python",
   "name": "python",
   "nbconvert_exporter": "python",
   "pygments_lexer": "ipython3",
   "version": "3.13.2"
  }
 },
 "nbformat": 4,
 "nbformat_minor": 5
}
